{
 "cells": [
  {
   "cell_type": "code",
   "execution_count": 48,
   "metadata": {
    "ExecuteTime": {
     "end_time": "2020-03-12T14:27:59.104808Z",
     "start_time": "2020-03-12T14:27:58.414811Z"
    }
   },
   "outputs": [],
   "source": [
    "import torch\n",
    "import torch.nn as nn\n",
    "\n",
    "import random\n",
    "from PIL import Image\n",
    "\n",
    "from torchvision import transforms\n",
    "\n",
    "from captcha.image import ImageCaptcha"
   ]
  },
  {
   "cell_type": "code",
   "execution_count": 49,
   "metadata": {
    "ExecuteTime": {
     "end_time": "2020-03-12T14:27:59.117806Z",
     "start_time": "2020-03-12T14:27:59.106808Z"
    }
   },
   "outputs": [],
   "source": [
    "from model.attention_ocr import OCR\n",
    "from utils.dataset import CaptchaDataset\n",
    "from utils.train_util import train_batch, eval_batch\n",
    "from utils.tokenizer import Tokenizer"
   ]
  },
  {
   "cell_type": "code",
   "execution_count": 50,
   "metadata": {
    "ExecuteTime": {
     "end_time": "2020-03-12T14:27:59.130807Z",
     "start_time": "2020-03-12T14:27:59.119815Z"
    }
   },
   "outputs": [],
   "source": [
    "img_width = 350\n",
    "img_height = 32\n",
    "max_len = 30\n",
    "\n",
    "nh = 512\n",
    "\n",
    "device = 'cpu'"
   ]
  },
  {
   "cell_type": "code",
   "execution_count": 51,
   "metadata": {
    "ExecuteTime": {
     "end_time": "2020-03-12T14:28:29.860808Z",
     "start_time": "2020-03-12T14:28:29.857806Z"
    }
   },
   "outputs": [],
   "source": [
    "chars = list(' 1234567890abcdefghijklmnopqrstuvwxyzABCDEFGHIJKLMNOPQRSTUVWXYZ')\n",
    "gen = ImageCaptcha(img_width, img_height)\n",
    "n_chars = 20"
   ]
  },
  {
   "cell_type": "code",
   "execution_count": 52,
   "metadata": {
    "ExecuteTime": {
     "end_time": "2020-03-12T14:28:43.527805Z",
     "start_time": "2020-03-12T14:28:30.510810Z"
    }
   },
   "outputs": [
    {
     "name": "stdout",
     "output_type": "stream",
     "text": [
      "Model feature size: 1 41\n"
     ]
    }
   ],
   "source": [
    "tokenizer = Tokenizer(chars)\n",
    "model = OCR(img_width, img_height, nh, tokenizer.n_token,\n",
    "                max_len + 1, tokenizer.SOS_token, tokenizer.EOS_token).to(device=device)\n"
   ]
  },
  {
   "cell_type": "code",
   "execution_count": 53,
   "metadata": {
    "ExecuteTime": {
     "end_time": "2020-03-12T14:28:48.045809Z",
     "start_time": "2020-03-12T14:28:46.259820Z"
    }
   },
   "outputs": [
    {
     "data": {
      "text/plain": [
       "<All keys matched successfully>"
      ]
     },
     "execution_count": 53,
     "metadata": {},
     "output_type": "execute_result"
    }
   ],
   "source": [
    "model.load_state_dict(torch.load('C:/Users/HP/Desktop/attention-ocr/model_120.pth', map_location = torch.device('cpu')))"
   ]
  },
  {
   "cell_type": "code",
   "execution_count": 54,
   "metadata": {
    "ExecuteTime": {
     "end_time": "2020-03-12T14:28:48.729813Z",
     "start_time": "2020-03-12T14:28:48.725811Z"
    }
   },
   "outputs": [],
   "source": [
    "img_trans = transforms.Compose([\n",
    "    transforms.ToTensor(),\n",
    "    # transforms.Normalize(mean=[0.485, 0.456, 0.406], std=(0.229, 0.224, 0.225)),\n",
    "])\n"
   ]
  },
  {
   "cell_type": "code",
   "execution_count": 59,
   "metadata": {
    "ExecuteTime": {
     "end_time": "2020-03-12T14:29:45.064809Z",
     "start_time": "2020-03-12T14:29:45.046810Z"
    }
   },
   "outputs": [
    {
     "name": "stdout",
     "output_type": "stream",
     "text": [
      "Hình ảnh input:\n"
     ]
    },
    {
     "data": {
      "image/png": "[encoded data removed]",
      "text/plain": [
       "<PIL.JpegImagePlugin.JpegImageFile image mode=RGB size=269x32 at 0x1794D38CB80>"
      ]
     },
     "execution_count": 59,
     "metadata": {},
     "output_type": "execute_result"
    }
   ],
   "source": [
    "content = [random.randrange(0, len(chars)) for _ in range(n_chars)]\n",
    "s = ''.join([chars[i] for i in content])\n",
    "d = gen.generate(s)\n",
    "image = Image.open(r\"C:\\Users\\HP\\Desktop\\data\\train\\0dddNoOb ef5vM9cwAD_6750.jpg\")\n",
    "print(\"Hình ảnh input:\")\n",
    "image"
   ]
  },
  {
   "cell_type": "code",
   "execution_count": 61,
   "metadata": {
    "ExecuteTime": {
     "end_time": "2020-03-12T14:29:46.053810Z",
     "start_time": "2020-03-12T14:29:45.981810Z"
    }
   },
   "outputs": [
    {
     "name": "stdout",
     "output_type": "stream",
     "text": [
      "Text có được khi đưa ảnh qua model:    0dddNoOb ef5vM9cwADAD"
     ]
    }
   ],
   "source": [
    "model.eval()\n",
    "with torch.no_grad():\n",
    "    predict = model(img_trans(image).unsqueeze(0))\n",
    "    \n",
    "return_text = tokenizer.translate(predict.squeeze(0).argmax(1))\n",
    "print(\"Text có được khi đưa ảnh qua model:    \", end=\"\")\n",
    "for i in return_text:\n",
    "    if i != '-':\n",
    "        print(i,end=\"\")\n",
    "# print(rst)"
   ]
  },
  {
   "cell_type": "code",
   "execution_count": null,
   "metadata": {},
   "outputs": [],
   "source": []
  }
 ],
 "metadata": {
  "interpreter": {
   "hash": "b337b16e1f284c9fe7de692799556d56c1809887abe3f5a49ffeb9e7df151cfb"
  },
  "kernelspec": {
   "display_name": "Python 3.8.4 64-bit",
   "language": "python",
   "name": "python3"
  },
  "language_info": {
   "codemirror_mode": {
    "name": "ipython",
    "version": 3
   },
   "file_extension": ".py",
   "mimetype": "text/x-python",
   "name": "python",
   "nbconvert_exporter": "python",
   "pygments_lexer": "ipython3",
   "version": "3.8.4"
  }
 },
 "nbformat": 4,
 "nbformat_minor": 4
}
